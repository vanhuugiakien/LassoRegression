{
 "cells": [
  {
   "cell_type": "code",
   "execution_count": 330,
   "metadata": {},
   "outputs": [],
   "source": [
    "import os\n",
    "import pandas as pd\n",
    "import numpy as np\n",
    "from sklearn import linear_model\n",
    "from sklearn.model_selection import train_test_split\n",
    "import matplotlib.pyplot as plt"
   ]
  },
  {
   "cell_type": "code",
   "execution_count": 331,
   "metadata": {},
   "outputs": [],
   "source": [
    "def getData():\n",
    "    # Get home data from CSV file\n",
    "    dataFile = None\n",
    "    if os.path.exists('home_data.csv'):\n",
    "        print(\"-- home_data.csv found locally\")\n",
    "        dataFile = pd.read_csv('home_data.csv', skipfooter=1)\n",
    "\n",
    "    return dataFile"
   ]
  },
  {
   "cell_type": "code",
   "execution_count": 332,
   "metadata": {},
   "outputs": [
    {
     "name": "stdout",
     "output_type": "stream",
     "text": [
      "-- home_data.csv found locally\n"
     ]
    },
    {
     "name": "stderr",
     "output_type": "stream",
     "text": [
      "C:\\Users\\vanhu\\AppData\\Local\\Temp\\ipykernel_15408\\3913075788.py:6: ParserWarning: Falling back to the 'python' engine because the 'c' engine does not support skipfooter; you can avoid this warning by specifying engine='python'.\n",
      "  dataFile = pd.read_csv('home_data.csv', skipfooter=1)\n"
     ]
    },
    {
     "data": {
      "text/html": [
       "<div>\n",
       "<style scoped>\n",
       "    .dataframe tbody tr th:only-of-type {\n",
       "        vertical-align: middle;\n",
       "    }\n",
       "\n",
       "    .dataframe tbody tr th {\n",
       "        vertical-align: top;\n",
       "    }\n",
       "\n",
       "    .dataframe thead th {\n",
       "        text-align: right;\n",
       "    }\n",
       "</style>\n",
       "<table border=\"1\" class=\"dataframe\">\n",
       "  <thead>\n",
       "    <tr style=\"text-align: right;\">\n",
       "      <th></th>\n",
       "      <th>crime_rate</th>\n",
       "      <th>proportion_of_residential_land_zoned</th>\n",
       "      <th>proportion_of_non-retail_business</th>\n",
       "      <th>charles_river_dummy_variable</th>\n",
       "      <th>nitric_oxides_concentration</th>\n",
       "      <th>avg_numb_ofrooms</th>\n",
       "      <th>age</th>\n",
       "      <th>dis</th>\n",
       "      <th>index_of_accessibility_to_radial_highways</th>\n",
       "      <th>tax</th>\n",
       "      <th>ptratio</th>\n",
       "      <th>b</th>\n",
       "      <th>l_stat</th>\n",
       "      <th>medv</th>\n",
       "    </tr>\n",
       "  </thead>\n",
       "  <tbody>\n",
       "    <tr>\n",
       "      <th>0</th>\n",
       "      <td>0.00632</td>\n",
       "      <td>18.0</td>\n",
       "      <td>2.31</td>\n",
       "      <td>0</td>\n",
       "      <td>0.538</td>\n",
       "      <td>6.575</td>\n",
       "      <td>65.2</td>\n",
       "      <td>4.0900</td>\n",
       "      <td>1</td>\n",
       "      <td>296</td>\n",
       "      <td>15.3</td>\n",
       "      <td>396.90</td>\n",
       "      <td>4.98</td>\n",
       "      <td>24.0</td>\n",
       "    </tr>\n",
       "    <tr>\n",
       "      <th>1</th>\n",
       "      <td>0.02731</td>\n",
       "      <td>0.0</td>\n",
       "      <td>7.07</td>\n",
       "      <td>0</td>\n",
       "      <td>0.469</td>\n",
       "      <td>6.421</td>\n",
       "      <td>78.9</td>\n",
       "      <td>4.9671</td>\n",
       "      <td>2</td>\n",
       "      <td>242</td>\n",
       "      <td>17.8</td>\n",
       "      <td>396.90</td>\n",
       "      <td>9.14</td>\n",
       "      <td>21.6</td>\n",
       "    </tr>\n",
       "    <tr>\n",
       "      <th>2</th>\n",
       "      <td>0.02729</td>\n",
       "      <td>0.0</td>\n",
       "      <td>7.07</td>\n",
       "      <td>0</td>\n",
       "      <td>0.469</td>\n",
       "      <td>7.185</td>\n",
       "      <td>61.1</td>\n",
       "      <td>4.9671</td>\n",
       "      <td>2</td>\n",
       "      <td>242</td>\n",
       "      <td>17.8</td>\n",
       "      <td>392.83</td>\n",
       "      <td>4.03</td>\n",
       "      <td>34.7</td>\n",
       "    </tr>\n",
       "    <tr>\n",
       "      <th>3</th>\n",
       "      <td>0.03237</td>\n",
       "      <td>0.0</td>\n",
       "      <td>2.18</td>\n",
       "      <td>0</td>\n",
       "      <td>0.458</td>\n",
       "      <td>6.998</td>\n",
       "      <td>45.8</td>\n",
       "      <td>6.0622</td>\n",
       "      <td>3</td>\n",
       "      <td>222</td>\n",
       "      <td>18.7</td>\n",
       "      <td>394.63</td>\n",
       "      <td>2.94</td>\n",
       "      <td>33.4</td>\n",
       "    </tr>\n",
       "    <tr>\n",
       "      <th>4</th>\n",
       "      <td>0.06905</td>\n",
       "      <td>0.0</td>\n",
       "      <td>2.18</td>\n",
       "      <td>0</td>\n",
       "      <td>0.458</td>\n",
       "      <td>7.147</td>\n",
       "      <td>54.2</td>\n",
       "      <td>6.0622</td>\n",
       "      <td>3</td>\n",
       "      <td>222</td>\n",
       "      <td>18.7</td>\n",
       "      <td>396.90</td>\n",
       "      <td>0.00</td>\n",
       "      <td>36.2</td>\n",
       "    </tr>\n",
       "  </tbody>\n",
       "</table>\n",
       "</div>"
      ],
      "text/plain": [
       "   crime_rate  proportion_of_residential_land_zoned  \\\n",
       "0     0.00632                                  18.0   \n",
       "1     0.02731                                   0.0   \n",
       "2     0.02729                                   0.0   \n",
       "3     0.03237                                   0.0   \n",
       "4     0.06905                                   0.0   \n",
       "\n",
       "   proportion_of_non-retail_business  charles_river_dummy_variable  \\\n",
       "0                               2.31                             0   \n",
       "1                               7.07                             0   \n",
       "2                               7.07                             0   \n",
       "3                               2.18                             0   \n",
       "4                               2.18                             0   \n",
       "\n",
       "   nitric_oxides_concentration  avg_numb_ofrooms   age     dis  \\\n",
       "0                        0.538             6.575  65.2  4.0900   \n",
       "1                        0.469             6.421  78.9  4.9671   \n",
       "2                        0.469             7.185  61.1  4.9671   \n",
       "3                        0.458             6.998  45.8  6.0622   \n",
       "4                        0.458             7.147  54.2  6.0622   \n",
       "\n",
       "   index_of_accessibility_to_radial_highways  tax  ptratio       b  l_stat  \\\n",
       "0                                          1  296     15.3  396.90    4.98   \n",
       "1                                          2  242     17.8  396.90    9.14   \n",
       "2                                          2  242     17.8  392.83    4.03   \n",
       "3                                          3  222     18.7  394.63    2.94   \n",
       "4                                          3  222     18.7  396.90    0.00   \n",
       "\n",
       "   medv  \n",
       "0  24.0  \n",
       "1  21.6  \n",
       "2  34.7  \n",
       "3  33.4  \n",
       "4  36.2  "
      ]
     },
     "execution_count": 332,
     "metadata": {},
     "output_type": "execute_result"
    }
   ],
   "source": [
    "data = getData()\n",
    "data.head()"
   ]
  },
  {
   "cell_type": "code",
   "execution_count": 333,
   "metadata": {},
   "outputs": [
    {
     "data": {
      "text/plain": [
       "Index(['crime_rate', 'proportion_of_residential_land_zoned',\n",
       "       'proportion_of_non-retail_business', 'charles_river_dummy_variable',\n",
       "       'nitric_oxides_concentration', 'avg_numb_ofrooms', 'age', 'dis',\n",
       "       'index_of_accessibility_to_radial_highways', 'tax', 'ptratio', 'b',\n",
       "       'l_stat', 'medv'],\n",
       "      dtype='object')"
      ]
     },
     "execution_count": 333,
     "metadata": {},
     "output_type": "execute_result"
    }
   ],
   "source": [
    "data.columns"
   ]
  },
  {
   "cell_type": "code",
   "execution_count": 334,
   "metadata": {},
   "outputs": [],
   "source": [
    "def linearRegressionModel(X_train, Y_train, X_test, Y_test):\n",
    "    linear = linear_model.LinearRegression()\n",
    "    linear.fit(X_train, Y_train)\n",
    "    score_trained = linear.score(X_test, Y_test)\n",
    "    rmse = np.sqrt(np.mean((linear.predict(X_test) - Y_test) ** 2))\n",
    "    return (score_trained,rmse, linear)\n",
    "\n",
    "def lassoRegressionModel(X_train, Y_train, X_test, Y_test):\n",
    "    lasso_linear = linear_model.Lasso(alpha=1.0)\n",
    "    lasso_linear.fit(X_train, Y_train)\n",
    "    score_trained = lasso_linear.score(X_test, Y_test)\n",
    "    rmse = np.sqrt(np.mean((lasso_linear.predict(X_test) - Y_test) ** 2))\n",
    "    return (score_trained , rmse, lasso_linear)\n"
   ]
  },
  {
   "cell_type": "code",
   "execution_count": 335,
   "metadata": {},
   "outputs": [],
   "source": [
    "attributes = list(\n",
    "    [\n",
    "        'crime_rate',\n",
    "        'age',\n",
    "        'tax',\n",
    "        'dis',\n",
    "    ]\n",
    ")\n",
    "Y = data['ptratio']\n",
    "X = data['age']"
   ]
  },
  {
   "cell_type": "code",
   "execution_count": 336,
   "metadata": {},
   "outputs": [],
   "source": [
    "X_train, X_test, Y_train, Y_test = train_test_split(np.array(X).reshape(-1,1), np.array(Y).reshape(-1,1), test_size=0.3)"
   ]
  },
  {
   "cell_type": "code",
   "execution_count": 337,
   "metadata": {},
   "outputs": [
    {
     "name": "stdout",
     "output_type": "stream",
     "text": [
      "Linear RMSE =  2.1416843032074837 MSE =  4.586811654605325\n",
      "Lasso RMSE =  2.239948507305177 MSE =  5.017369315378691\n"
     ]
    },
    {
     "data": {
      "image/png": "[encoded data removed]",
      "text/plain": [
       "<Figure size 640x480 with 1 Axes>"
      ]
     },
     "metadata": {},
     "output_type": "display_data"
    }
   ],
   "source": [
    "#modify Y_Test with some random values\n",
    "\n",
    "linear = linearRegressionModel(X_train, Y_train, X_test, Y_test)\n",
    "print('Linear RMSE = ' , linear[1], 'MSE = ',  linear[1]**2)\n",
    "\n",
    "\n",
    "\n",
    "lasso = lassoRegressionModel(X_train, Y_train, X_test, Y_test)\n",
    "print ('Lasso RMSE = ', lasso[1], 'MSE = ',  lasso[1]**2)\n",
    "plt.scatter(X_test, linear[2].predict(X_test))\n",
    "plt.plot(X_train, linear[2].predict(X_train), color='red', label=\"Lasso\" )\n",
    "plt.plot(X_train, lasso[2].predict(X_train), color='green' , label=\"Lasso\" )\n",
    "plt.show()"
   ]
  },
  {
   "cell_type": "code",
   "execution_count": 338,
   "metadata": {},
   "outputs": [
    {
     "name": "stdout",
     "output_type": "stream",
     "text": [
      "Linear RMSE =  1.7986628534436544 MSE =  3.235188060358069\n",
      "Lasso RMSE =  1.7620446324436363 MSE =  3.104801286723429\n"
     ]
    }
   ],
   "source": [
    "Y = data['ptratio']\n",
    "X = data[attributes]\n",
    "X_train, X_test, Y_train, Y_test = train_test_split(np.array(X), np.array(Y), test_size=0.3)\n",
    "\n",
    "linear = linearRegressionModel(X_train, Y_train, X_test, Y_test)\n",
    "print('Linear RMSE = ' , linear[1], 'MSE = ',  linear[1]**2)\n",
    "\n",
    "lasso = lassoRegressionModel(X_train, Y_train, X_test, Y_test)\n",
    "print ('Lasso RMSE = ', lasso[1], 'MSE = ',  lasso[1]**2)"
   ]
  }
 ],
 "metadata": {
  "kernelspec": {
   "display_name": "Python 3.9.13 ('tf-gpu')",
   "language": "python",
   "name": "python3"
  },
  "language_info": {
   "codemirror_mode": {
    "name": "ipython",
    "version": 3
   },
   "file_extension": ".py",
   "mimetype": "text/x-python",
   "name": "python",
   "nbconvert_exporter": "python",
   "pygments_lexer": "ipython3",
   "version": "3.9.13"
  },
  "orig_nbformat": 4,
  "vscode": {
   "interpreter": {
    "hash": "68b1a9d591f6e0e3c5f181bc116518d5e6b03155b0490177f6a63cbe14b72815"
   }
  }
 },
 "nbformat": 4,
 "nbformat_minor": 2
}
